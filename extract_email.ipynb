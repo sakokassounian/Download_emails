{
 "cells": [
  {
   "cell_type": "markdown",
   "metadata": {},
   "source": [
    "# Email info extraction\n",
    "\n",
    "This script will access your inbox and download all the 1st layer information in you inbox, such as body, sender information, and email attachments"
   ]
  },
  {
   "cell_type": "markdown",
   "metadata": {},
   "source": [
    "### Import packages"
   ]
  },
  {
   "cell_type": "code",
   "execution_count": 1,
   "metadata": {},
   "outputs": [],
   "source": [
    "import datetime\n",
    
    "import pandas as pd\n",
    "import os\n",
    "import win32com.client #connects to your MS outlook  "
   ]
  },
  {
   "cell_type": "markdown",
   "metadata": {},
   "source": [
    "### User inputs"
   ]
  },
  {
   "cell_type": "code",
   "execution_count": 5,
   "metadata": {},
   "outputs": [],
   "source": [
    "# Create output folder \n",
    "output_dir = '/put_your_directory/emails/'\n",
    "user_email = \"sarkis.kassounian@outlook.com\" #replace with yours"
   ]
  },
  {
   "cell_type": "code",
   "execution_count": 7,
   "metadata": {},
   "outputs": [],
   "source": [
    "#connect to inbox\n",
    "outlook = win32com.client.Dispatch(\"Outlook.Application\").GetNamespace(\"MAPI\")"
   ]
  },
  {
   "cell_type": "markdown",
   "metadata": {},
   "source": [
    "### Extract messages from inbox "
   ]
  },
  {
   "cell_type": "code",
   "execution_count": 8,
   "metadata": {},
   "outputs": [],
   "source": [
    "inbox = outlook.Folders(user_email).Folders(\"Inbox\")\n",
    "#You can also connect to the inbox via folder numbers\n",
    "# Check https://docs.microsoft.com/en-us/office/vba/api/outlook.oldefaultfolders\n",
    "inbox = outlook.GetDefaultFolder(6)\n",
    "messages = inbox.Items"
   ]
  },
  {
   "cell_type": "markdown",
   "metadata": {},
   "source": [
    "### Fill database"
   ]
  },
  {
   "cell_type": "code",
   "execution_count": 15,
   "metadata": {},
   "outputs": [],
   "source": [
    "#prepare arrays\n",
    "names = []\n",
    "email_address = [] \n",
    "message_class = [] \n",
    "subject_arr = [] \n",
    "attachments_arr = [] \n",
    "body_arr = [] \n",
    "date_arr = [] \n",
    "time_arr = [] "
   ]
  },
  {
   "cell_type": "markdown",
   "metadata": {},
   "source": [
    "### Iterate over message objects to extract information pieces"
   ]
  },
  {
   "cell_type": "code",
   "execution_count": 16,
   "metadata": {},
   "outputs": [
    {
     "name": "stdout",
     "output_type": "stream",
     "text": [
      "[INFO]: Extracted messages: 100/895\n",
      "[INFO]: Extracted messages: 200/895\n",
      "[INFO]: Extracted messages: 300/895\n",
      "[INFO]: Extracted messages: 400/895\n",
      "[INFO]: Extracted messages: 500/895\n",
      "[INFO]: Extracted messages: 600/895\n",
      "[INFO]: Extracted messages: 700/895\n",
      "[INFO]: Extracted messages: 800/895\n",
      "[INFO]: Extracted messages: 895/895\n"
     ]
    }
   ],
   "source": [
    "counter = 1\n",
    "for message in messages:\n",
    "    if counter%100 == 0 or counter==len(messages): print(f\"[INFO]: Extracted messages: {counter}/{len(messages)}\")\n",
    "    counter+=1\n",
    "    subject_arr.append(message.Subject)\n",
    "    attachmets = message.Attachments\n",
    "    attachments_arr.append(attachmets)\n",
    "    body_arr.append(message.body)\n",
    "    recieved = message.ReceivedTime\n",
    "    date_arr.append(recieved.date().strftime(\"%d-%b-%Y\"))\n",
    "    time_arr.append(str(recieved.time()))\n",
    "    \n",
    "    \n",
    "    #get sender name     \n",
    "    sender_name = None\n",
    "    try:\n",
    "        sender_name = message.Sender.Name\n",
    "    except:\n",
    "        sender_name = message.SenderName    \n",
    "    names.append(sender_name)\n",
    "\n",
    "    #get message class\n",
    "    message_class.append(message.Class)\n",
    "\n",
    "    #get_email ... Due to the class of the email, the nature of the email address can change\n",
    "    email = None\n",
    "    if message.Class == 43 :        \n",
    "        if message.SenderEmailType =='EX':\n",
    "            if message.Sender.GetExchangeUser()!=None:\n",
    "                if type(message.Sender.GetExchangeUSer())==str:\n",
    "                    email = message.Sender.GetExchangeUSer()\n",
    "                else:    \n",
    "                    email = message.Sender.GetExchangeUSer().PrimarySmtpAddress            \n",
    "        else:         \n",
    "            email = message.SenderEmailAddress\n",
    "\n",
    "    email_address.append(email)"
   ]
  },
  {
   "cell_type": "markdown",
   "metadata": {},
   "source": [
    "### Save data in Pandas dataframe for visalualization\n",
    "\n",
    "Not that the body and the attachments list are not included since we will use them to extract information"
   ]
  },
  {
   "cell_type": "code",
   "execution_count": 22,
   "metadata": {},
   "outputs": [],
   "source": [
    "data = {}\n",
    "data['date'] = date_arr\n",
    "data['time'] = time_arr\n",
    "data['names'] = names\n",
    "data['message_class'] = message_class\n",
    "data['email'] = email_address\n",
    "data['subject'] = subject_arr\n",
    "data['N_attach'] = [len(i) for i in attachments_arr]\n",
    "data = pd.DataFrame(data)"
   ]
  },
  {
   "cell_type": "markdown",
   "metadata": {},
   "source": [
    "### Later you can do any filtering process"
   ]
  },
  {
   "cell_type": "code",
   "execution_count": 23,
   "metadata": {},
   "outputs": [
    {
     "data": {
      "text/html": [
       "<div>\n",
       "<style scoped>\n",
       "    .dataframe tbody tr th:only-of-type {\n",
       "        vertical-align: middle;\n",
       "    }\n",
       "\n",
       "    .dataframe tbody tr th {\n",
       "        vertical-align: top;\n",
       "    }\n",
       "\n",
       "    .dataframe thead th {\n",
       "        text-align: right;\n",
       "    }\n",
       "</style>\n",
       "<table border=\"1\" class=\"dataframe\">\n",
       "  <thead>\n",
       "    <tr style=\"text-align: right;\">\n",
       "      <th></th>\n",
       "      <th>date</th>\n",
       "      <th>time</th>\n",
       "      <th>names</th>\n",
       "      <th>message_class</th>\n",
       "      <th>email</th>\n",
       "      <th>subject</th>\n",
       "      <th>N_attach</th>\n",
       "    </tr>\n",
       "  </thead>\n",
       "  <tbody>\n",
       "    <tr>\n",
       "      <th>0</th>\n",
       "      <td>04-Apr-2023</td>\n",
       "      <td>08:41:52.783000</td>\n",
       "      <td>my friends</td>\n",
       "      <td>43</td>\n",
       "      <td>non_of_your_business@outlook.com</td>\n",
       "      <td>Need to know basis</td>\n",
       "      <td>5</td>\n",
       "    </tr>\n",
       "    <tr>\n",
       "      <th>2</th>\n",
       "      <td>04-Apr-2023</td>\n",
       "      <td>05:33:48.067000</td>\n",
       "      <td>my friends</td>\n",
       "      <td>43</td>\n",
       "      <td>non_of_your_business@outlook.com</td>\n",
       "      <td>Need to know basis</td>\n",
       "      <td>10</td>\n",
       "    </tr>\n",
       "    <tr>\n",
       "      <th>3</th>\n",
       "      <td>03-Apr-2023</td>\n",
       "      <td>16:41:38.914000</td>\n",
       "      <td>my friends</td>\n",
       "      <td>43</td>\n",
       "      <td>non_of_your_business@outlook.com</td>\n",
       "      <td>Need to know basis</td>\n",
       "      <td>4</td>\n",
       "    </tr>\n",
       "    <tr>\n",
       "      <th>18</th>\n",
       "      <td>28-Mar-2023</td>\n",
       "      <td>08:18:16.262000</td>\n",
       "      <td>my friends</td>\n",
       "      <td>43</td>\n",
       "      <td>non_of_your_business@outlook.com</td>\n",
       "      <td>Need to know basis</td>\n",
       "      <td>4</td>\n",
       "    </tr>\n",
       "    <tr>\n",
       "      <th>19</th>\n",
       "      <td>26-Mar-2023</td>\n",
       "      <td>19:44:02.540000</td>\n",
       "      <td>my friends</td>\n",
       "      <td>43</td>\n",
       "      <td>non_of_your_business@outlook.com</td>\n",
       "      <td>Need to know basis</td>\n",
       "      <td>3</td>\n",
       "    </tr>\n",
       "    <tr>\n",
       "      <th>...</th>\n",
       "      <td>...</td>\n",
       "      <td>...</td>\n",
       "      <td>...</td>\n",
       "      <td>...</td>\n",
       "      <td>...</td>\n",
       "      <td>...</td>\n",
       "      <td>...</td>\n",
       "    </tr>\n",
       "    <tr>\n",
       "      <th>888</th>\n",
       "      <td>14-Jul-2023</td>\n",
       "      <td>14:05:38.561000</td>\n",
       "      <td>my friends</td>\n",
       "      <td>43</td>\n",
       "      <td>non_of_your_business@outlook.com</td>\n",
       "      <td>Need to know basis</td>\n",
       "      <td>1</td>\n",
       "    </tr>\n",
       "    <tr>\n",
       "      <th>889</th>\n",
       "      <td>14-Jul-2023</td>\n",
       "      <td>15:38:15.302000</td>\n",
       "      <td>my friends</td>\n",
       "      <td>43</td>\n",
       "      <td>non_of_your_business@outlook.com</td>\n",
       "      <td>Need to know basis</td>\n",
       "      <td>1</td>\n",
       "    </tr>\n",
       "    <tr>\n",
       "      <th>890</th>\n",
       "      <td>14-Jul-2023</td>\n",
       "      <td>15:41:00.028000</td>\n",
       "      <td>my friends</td>\n",
       "      <td>43</td>\n",
       "      <td>non_of_your_business@outlook.com</td>\n",
       "      <td>Need to know basis</td>\n",
       "      <td>1</td>\n",
       "    </tr>\n",
       "    <tr>\n",
       "      <th>892</th>\n",
       "      <td>14-Jul-2023</td>\n",
       "      <td>20:38:12.381000</td>\n",
       "      <td>my friends</td>\n",
       "      <td>43</td>\n",
       "      <td>non_of_your_business@outlook.com</td>\n",
       "      <td>Need to know basis</td>\n",
       "      <td>1</td>\n",
       "    </tr>\n",
       "    <tr>\n",
       "      <th>893</th>\n",
       "      <td>14-Jul-2023</td>\n",
       "      <td>20:06:22.225000</td>\n",
       "      <td>my friends</td>\n",
       "      <td>43</td>\n",
       "      <td>non_of_your_business@outlook.com</td>\n",
       "      <td>Need to know basis</td>\n",
       "      <td>1</td>\n",
       "    </tr>\n",
       "  </tbody>\n",
       "</table>\n",
       "<p>343 rows × 7 columns</p>\n",
       "</div>"
      ],
      "text/plain": [
       "            date             time       names  message_class  \\\n",
       "0    04-Apr-2023  08:41:52.783000  my friends             43   \n",
       "2    04-Apr-2023  05:33:48.067000  my friends             43   \n",
       "3    03-Apr-2023  16:41:38.914000  my friends             43   \n",
       "18   28-Mar-2023  08:18:16.262000  my friends             43   \n",
       "19   26-Mar-2023  19:44:02.540000  my friends             43   \n",
       "..           ...              ...         ...            ...   \n",
       "888  14-Jul-2023  14:05:38.561000  my friends             43   \n",
       "889  14-Jul-2023  15:38:15.302000  my friends             43   \n",
       "890  14-Jul-2023  15:41:00.028000  my friends             43   \n",
       "892  14-Jul-2023  20:38:12.381000  my friends             43   \n",
       "893  14-Jul-2023  20:06:22.225000  my friends             43   \n",
       "\n",
       "                                email             subject  N_attach  \n",
       "0    non_of_your_business@outlook.com  Need to know basis         5  \n",
       "2    non_of_your_business@outlook.com  Need to know basis        10  \n",
       "3    non_of_your_business@outlook.com  Need to know basis         4  \n",
       "18   non_of_your_business@outlook.com  Need to know basis         4  \n",
       "19   non_of_your_business@outlook.com  Need to know basis         3  \n",
       "..                                ...                 ...       ...  \n",
       "888  non_of_your_business@outlook.com  Need to know basis         1  \n",
       "889  non_of_your_business@outlook.com  Need to know basis         1  \n",
       "890  non_of_your_business@outlook.com  Need to know basis         1  \n",
       "892  non_of_your_business@outlook.com  Need to know basis         1  \n",
       "893  non_of_your_business@outlook.com  Need to know basis         1  \n",
       "\n",
       "[343 rows x 7 columns]"
      ]
     },
     "execution_count": 23,
     "metadata": {},
     "output_type": "execute_result"
    }
   ],
   "source": [
    "data['names'] = 'my friends'\n",
    "data['message_class'] = message_class\n",
    "data['email'] = 'non_of_your_business@outlook.com'\n",
    "data['subject'] = 'Need to know basis'\n",
    "data['N_attach'] = [len(i) for i in attachments_arr]\n",
    "data = data.query(\"N_attach>0\")\n",
    "data"
   ]
  },
  {
   "cell_type": "markdown",
   "metadata": {},
   "source": [
    "### Downloading attachments\n",
    "\n",
    "Some types of attachments are not downloadable and there are many files per email. But to keep track of what "
   ]
  },
  {
   "cell_type": "code",
   "execution_count": 27,
   "metadata": {
    "scrolled": true
   },
   "outputs": [
    {
     "name": "stdout",
     "output_type": "stream",
     "text": [
      "[INFO]: Extracted messages: 50/343 --> Total attachments = 60\n",
      "[INFO]: Extracted messages: 100/343 --> Total attachments = 105\n",
      "[INFO]: Extracted messages: 150/343 --> Total attachments = 134\n",
      "[INFO]: Extracted messages: 200/343 --> Total attachments = 181\n",
      "[INFO]: Extracted messages: 250/343 --> Total attachments = 224\n",
      "[INFO]: Extracted messages: 300/343 --> Total attachments = 264\n",
      "[INFO]: Extracted messages: 343/343 --> Total attachments = 286\n"
     ]
    }
   ],
   "source": [
    "#extract attachments\n",
    "counter = 1 \n",
    "attach_count = 0 \n",
    "for idx,attch in enumerate(data.index):\n",
    "\n",
    "    for file in attachments_arr[idx]:\n",
    "        try:\n",
    "            file.SaveAsFile(output_dir+f\"{idx}_{file.FileName}\")\n",
    "            attach_count += 1  \n",
    "        except: \n",
    "            pass   \n",
    "    if counter%50 == 0 or counter==len(data): print(f\"[INFO]: Extracted messages: {counter}/{len(data)} --> Total attachments = {attach_count}\")\n",
    "    counter+=1    \n",
    "        "
   ]
  }
 ],
 "metadata": {
  "kernelspec": {
   "display_name": "Python 3",
   "language": "python",
   "name": "python3"
  },
  "language_info": {
   "codemirror_mode": {
    "name": "ipython",
    "version": 3
   },
   "file_extension": ".py",
   "mimetype": "text/x-python",
   "name": "python",
   "nbconvert_exporter": "python",
   "pygments_lexer": "ipython3",
   "version": "3.8.5"
  }
 },
 "nbformat": 4,
 "nbformat_minor": 4
}
